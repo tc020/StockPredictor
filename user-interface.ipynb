{
 "cells": [
  {
   "cell_type": "markdown",
   "id": "c1163e8b",
   "metadata": {},
   "source": [
    "# Gradio User Interface"
   ]
  },
  {
   "cell_type": "code",
   "execution_count": 1,
   "id": "8250beaf",
   "metadata": {},
   "outputs": [
    {
     "name": "stderr",
     "output_type": "stream",
     "text": [
      "c:\\workspace\\StockPredictor\\StockPredictor_venv\\Lib\\site-packages\\tqdm\\auto.py:21: TqdmWarning: IProgress not found. Please update jupyter and ipywidgets. See https://ipywidgets.readthedocs.io/en/stable/user_install.html\n",
      "  from .autonotebook import tqdm as notebook_tqdm\n"
     ]
    }
   ],
   "source": [
    "import gradio as gr\n",
    "\n",
    "# Closing all open ports\n",
    "gr.close_all()"
   ]
  },
  {
   "cell_type": "code",
   "execution_count": null,
   "id": "5ffe52aa",
   "metadata": {},
   "outputs": [],
   "source": [
    "import gradio as gr\n",
    "import pandas as pd\n",
    "\n",
    "# Beispiel-DataFrame\n",
    "df = pd.DataFrame({\n",
    "    \"Name\": [\"Alice\", \"Bob\", \"Charlie\"],\n",
    "    \"Alter\": [25, 30, 35],\n",
    "    \"Beruf\": [\"Ingenieur\", \"Lehrer\", \"Designer\"]\n",
    "})\n",
    "\n",
    "# Interface-Funktion, gibt das DataFrame zurück\n",
    "def show_df():\n",
    "    return df\n",
    "\n",
    "app = gr.Interface(fn=show_df, inputs=[], outputs=gr.Dataframe())\n",
    "\n",
    "app.launch()\n"
   ]
  },
  {
   "cell_type": "code",
   "execution_count": 7,
   "id": "392ef1e1",
   "metadata": {},
   "outputs": [
    {
     "name": "stdout",
     "output_type": "stream",
     "text": [
      "* Running on local URL:  http://127.0.0.1:7862\n",
      "* To create a public link, set `share=True` in `launch()`.\n"
     ]
    },
    {
     "data": {
      "text/html": [
       "<div><iframe src=\"http://127.0.0.1:7862/\" width=\"100%\" height=\"500\" allow=\"autoplay; camera; microphone; clipboard-read; clipboard-write;\" frameborder=\"0\" allowfullscreen></iframe></div>"
      ],
      "text/plain": [
       "<IPython.core.display.HTML object>"
      ]
     },
     "metadata": {},
     "output_type": "display_data"
    },
    {
     "data": {
      "text/plain": []
     },
     "execution_count": 7,
     "metadata": {},
     "output_type": "execute_result"
    }
   ],
   "source": [
    "import gradio as gr\n",
    "\n",
    "\n",
    "def greet(name):\n",
    "    return \"Hello \" + name + \"!\"\n",
    "\n",
    "\n",
    "with gr.Blocks() as demo:\n",
    "    title = gr.HTML(\"<div style=font-size:100px;'>Stock Predictor</div>\")\n",
    "    with gr.Row(equal_height=True):\n",
    "        with gr.Column(scale=1):\n",
    "            load = gr.Button(\"Load Stock\")\n",
    "            load = gr.Button(\"Loading Bar\")\n",
    "            #load.click(fn=greet, inputs=name, outputs=output)\n",
    "            result = gr.Label(value=\"Successful\", label=\"Result\")\n",
    "        with gr.Column(scale=4):\n",
    "            img1 = gr.Image(\"google-test.png\")\n",
    "\n",
    "    with gr.Row():\n",
    "        with gr.Column(scale=1):\n",
    "            latestdata = gr.Label(value=\"Latest Datas of Stock: 2025-06-11\", label=\"Currency\")\n",
    "            nobrands = gr.Label(value=\"Number of Brands: 61\", label=\"Countin Brands\")\n",
    "            #output = gr.Textbox(label=\"Output Box\")\n",
    "            #name = gr.Textbox(label=\"Name\")\n",
    "            drpdwn = gr.Dropdown(label=\"Choose your Brand:\", choices=[\"Google\", \"BMW\", \"Apple\"], allow_custom_value=True)\n",
    "            slider = gr.Slider(label=\"Number of Days to predict\", maximum=10, step=1, value=4)\n",
    "            prdct = gr.Button(\"Predict\")\n",
    "        with gr.Column(scale=1):\n",
    "            start = gr.Label(value=\"Start Stock in Dataset: 38,343984\", label=\"Start\")\n",
    "            low = gr.Label(value=\"Lowest Stock: 21,98733\", label=\"Low\")\n",
    "            high = gr.Label(value=\"Highest Stock: 358,546202\", label=\"High\")\n",
    "            latest = gr.Label(value=\"Latest Stock: 298,043746\", label=\"Latest\")\n",
    "    news = gr.HTML(\"<div style=font-size:40px;'>The Latest news of Google:</div>\")\n",
    "    news1 = gr.Label(value=\"Googles KI wird Modeberater, aber kein Ersatz für Apps\", label=\"Spiegel\")\n",
    "    news2 = gr.Label(value=\"Google hat jetzt ein neues App-Icon\", label=\"FAZ\")\n",
    "    news3 = gr.Label(value=\"Mexiko verklagt Google wegen >>Golf von Amerika<<\", label=\"Bild.de\")\n",
    "\n",
    "    #greet_btn = gr.Button(\"Predict\")\n",
    "    #greet_btn.click(fn=greet, inputs=name, outputs=output, api_name=\"greet\")\n",
    "\n",
    "demo.launch()\n"
   ]
  },
  {
   "cell_type": "code",
   "execution_count": 124,
   "id": "e51c28de",
   "metadata": {},
   "outputs": [
    {
     "name": "stdout",
     "output_type": "stream",
     "text": [
      "Closing server running on port: 7869\n",
      "Closing server running on port: 7860\n",
      "Closing server running on port: 7865\n",
      "Closing server running on port: 7866\n",
      "Closing server running on port: 7870\n",
      "Closing server running on port: 7878\n",
      "Closing server running on port: 7875\n",
      "Closing server running on port: 7873\n",
      "Closing server running on port: 7876\n",
      "Closing server running on port: 7882\n",
      "Closing server running on port: 7868\n",
      "Closing server running on port: 7871\n",
      "Closing server running on port: 7864\n",
      "Closing server running on port: 7877\n",
      "Closing server running on port: 7874\n",
      "Closing server running on port: 7867\n",
      "Closing server running on port: 7879\n",
      "Closing server running on port: 7883\n",
      "Closing server running on port: 7863\n",
      "Closing server running on port: 7872\n",
      "Closing server running on port: 7880\n",
      "Closing server running on port: 7881\n",
      "Closing server running on port: 7861\n",
      "Closing server running on port: 7862\n"
     ]
    }
   ],
   "source": [
    "gr.close_all()"
   ]
  }
 ],
 "metadata": {
  "kernelspec": {
   "display_name": "StockPredictor_venv",
   "language": "python",
   "name": "python3"
  },
  "language_info": {
   "codemirror_mode": {
    "name": "ipython",
    "version": 3
   },
   "file_extension": ".py",
   "mimetype": "text/x-python",
   "name": "python",
   "nbconvert_exporter": "python",
   "pygments_lexer": "ipython3",
   "version": "3.12.1"
  }
 },
 "nbformat": 4,
 "nbformat_minor": 5
}
